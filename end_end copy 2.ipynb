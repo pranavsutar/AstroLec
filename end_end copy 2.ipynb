{
 "cells": [
  {
   "cell_type": "code",
   "execution_count": 2,
   "metadata": {},
   "outputs": [],
   "source": [
    "import numpy as np, matplotlib.pyplot as plt"
   ]
  },
  {
   "cell_type": "code",
   "execution_count": 3,
   "metadata": {},
   "outputs": [
    {
     "name": "stderr",
     "output_type": "stream",
     "text": [
      "C:\\Users\\91762\\AppData\\Local\\Temp\\ipykernel_27448\\34244232.py:13: DeprecationWarning: This function is deprecated. Please call randint(-50, 50 + 1) instead\n",
      "  a,b,c = np.random.random_integers(-50,50,3)\n"
     ]
    },
    {
     "data": {
      "text/plain": [
       "[<matplotlib.lines.Line2D at 0x1c17cc1f7f0>]"
      ]
     },
     "execution_count": 3,
     "metadata": {},
     "output_type": "execute_result"
    },
    {
     "data": {
      "image/png": "[encoded data removed]",
      "text/plain": [
       "<Figure size 432x288 with 1 Axes>"
      ]
     },
     "metadata": {
      "needs_background": "light"
     },
     "output_type": "display_data"
    }
   ],
   "source": [
    "def fun(x):\n",
    "    return 2*x*x -x + 4\n",
    "\n",
    "def par(a,b,c,x):\n",
    "    return a*x*x + b*x + c\n",
    "size = 1001\n",
    "ran = 100\n",
    "x = np.linspace(-ran,ran,size)\n",
    "y  = fun(x)\n",
    "np.random.seed(3) # random seed = 29\n",
    "\n",
    "# a,b,c = np.random.random(3)\n",
    "a,b,c = np.random.random_integers(-50,50,3)\n",
    "\n",
    "y2 = par(a,b,c,x)\n",
    "plt.plot(x,y2)\n",
    "plt.plot(x,y)\n"
   ]
  },
  {
   "cell_type": "code",
   "execution_count": 4,
   "metadata": {},
   "outputs": [
    {
     "data": {
      "text/plain": [
       "(-26, -47, 6)"
      ]
     },
     "execution_count": 4,
     "metadata": {},
     "output_type": "execute_result"
    }
   ],
   "source": [
    "a,b,c"
   ]
  },
  {
   "cell_type": "code",
   "execution_count": 5,
   "metadata": {},
   "outputs": [
    {
     "data": {
      "text/plain": [
       "93518.24119880122"
      ]
     },
     "execution_count": 5,
     "metadata": {},
     "output_type": "execute_result"
    }
   ],
   "source": [
    "def loss(a,b,c,fun,x):\n",
    "    return abs(par(a,b,c,x) - fun(x))\n",
    "\n",
    "def totloss(x):\n",
    "    return (np.mean([loss(a,b,c,fun,xx) for xx in x]))\n",
    "\n",
    "err = totloss(x)\n",
    "err"
   ]
  },
  {
   "cell_type": "code",
   "execution_count": 6,
   "metadata": {},
   "outputs": [
    {
     "data": {
      "text/plain": [
       "(-1124469623.68, -307280.00000000285, -187036.00000000003)"
      ]
     },
     "execution_count": 6,
     "metadata": {},
     "output_type": "execute_result"
    }
   ],
   "source": [
    "# Curve fitting: change a,b,c to minimize error\n",
    "# Gradient descent: change a,b,c to minimize error\n",
    "\n",
    "# Gradient descent\n",
    "\n",
    "def dlossa(a,b,c,fun,x):\n",
    "    s = [(par(a,b,c,xx) - fun(xx))*xx*xx for xx in x ]\n",
    "    return 2*np.mean(s)\n",
    "\n",
    "def dlossb(a,b,c,fun,x):\n",
    "    s = [(par(a,b,c,xx) - fun(xx))*xx for xx in x ]\n",
    "    return 2*np.mean(s)\n",
    "\n",
    "def dlossc(a,b,c,fun,x):\n",
    "    s = [(par(a,b,c,xx) - fun(xx)) for xx in x ]\n",
    "    return 2*np.mean(s)\n",
    "\n",
    "da,db,dc = dlossa(a,b,c,fun,x),dlossb(a,b,c,fun,x),dlossc(a,b,c,fun,x)\n",
    "da,db,dc"
   ]
  },
  {
   "cell_type": "code",
   "execution_count": 7,
   "metadata": {},
   "outputs": [
    {
     "ename": "ValueError",
     "evalue": "math domain error",
     "output_type": "error",
     "traceback": [
      "\u001b[1;31m---------------------------------------------------------------------------\u001b[0m",
      "\u001b[1;31mValueError\u001b[0m                                Traceback (most recent call last)",
      "\u001b[1;32mc:\\Users\\91762\\OneDrive\\Desktop\\IIT Tirupati\\Code Club\\AstroLec\\end_end copy 2.ipynb Cell 6\u001b[0m in \u001b[0;36m<cell line: 4>\u001b[1;34m()\u001b[0m\n\u001b[0;32m      <a href='vscode-notebook-cell:/c%3A/Users/91762/OneDrive/Desktop/IIT%20Tirupati/Code%20Club/AstroLec/end_end%20copy%202.ipynb#W5sZmlsZQ%3D%3D?line=0'>1</a>\u001b[0m \u001b[39mimport\u001b[39;00m \u001b[39mmath\u001b[39;00m\n\u001b[0;32m      <a href='vscode-notebook-cell:/c%3A/Users/91762/OneDrive/Desktop/IIT%20Tirupati/Code%20Club/AstroLec/end_end%20copy%202.ipynb#W5sZmlsZQ%3D%3D?line=1'>2</a>\u001b[0m num_epochs \u001b[39m=\u001b[39m \u001b[39m1000\u001b[39m\n\u001b[1;32m----> <a href='vscode-notebook-cell:/c%3A/Users/91762/OneDrive/Desktop/IIT%20Tirupati/Code%20Club/AstroLec/end_end%20copy%202.ipynb#W5sZmlsZQ%3D%3D?line=3'>4</a>\u001b[0m lr \u001b[39m=\u001b[39m (\u001b[39m10\u001b[39m\u001b[39m*\u001b[39m\u001b[39m*\u001b[39m\u001b[39m-\u001b[39m(math\u001b[39m.\u001b[39;49mlog10(\u001b[39mmax\u001b[39;49m(da,db,dc))\u001b[39m+\u001b[39m\u001b[39m2\u001b[39m\u001b[39m*\u001b[39mmath\u001b[39m.\u001b[39mlog(\u001b[39mmax\u001b[39m(da,db,dc),\u001b[39m100\u001b[39m)))\n\u001b[0;32m      <a href='vscode-notebook-cell:/c%3A/Users/91762/OneDrive/Desktop/IIT%20Tirupati/Code%20Club/AstroLec/end_end%20copy%202.ipynb#W5sZmlsZQ%3D%3D?line=4'>5</a>\u001b[0m \u001b[39mprint\u001b[39m(\u001b[39mf\u001b[39m\u001b[39m'\u001b[39m\u001b[39mlr = \u001b[39m\u001b[39m{\u001b[39;00mlr\u001b[39m}\u001b[39;00m\u001b[39m'\u001b[39m)\n\u001b[0;32m      <a href='vscode-notebook-cell:/c%3A/Users/91762/OneDrive/Desktop/IIT%20Tirupati/Code%20Club/AstroLec/end_end%20copy%202.ipynb#W5sZmlsZQ%3D%3D?line=5'>6</a>\u001b[0m \u001b[39mimport\u001b[39;00m \u001b[39mtime\u001b[39;00m\n",
      "\u001b[1;31mValueError\u001b[0m: math domain error"
     ]
    }
   ],
   "source": [
    "import math\n",
    "num_epochs = 1000\n",
    "\n",
    "lr = (10**-(math.log10(max(da,db,dc))+2*math.log(max(da,db,dc),100)))\n",
    "print(f'lr = {lr}')\n",
    "import time\n",
    "for epoch in range(num_epochs):\n",
    "    a -= lr*dlossa(a,b,c,fun,x)\n",
    "    b -= lr*dlossb(a,b,c,fun,x)\n",
    "    c -= lr*dlossc(a,b,c,fun,x)\n",
    "    err = totloss(x)\n",
    "    if epoch%(num_epochs//5) == 0 :\n",
    "        print(f\"Epoch {epoch+1}/{num_epochs}, Loss = {err}\")\n",
    "        # plot the graph, pause for 0.1 sec\n",
    "        y2 = par(a,b,c,x)\n",
    "        y = fun(x)\n",
    "        plt.clf() # clear the previous plot\n",
    "        # plt.plot(x,y2,)\n",
    "        # thickness\n",
    "        plt.plot(x,y2,linewidth=5)\n",
    "        plt.plot(x,y)\n",
    "        plt.show()\n",
    "        time.sleep(0.1)\n",
    "        \n",
    "\n",
    "print(f\"Final Loss = {err}\")\n",
    "print(f\"a = {a}, b = {b}, c = {c}\")\n"
   ]
  },
  {
   "cell_type": "code",
   "execution_count": null,
   "metadata": {},
   "outputs": [
    {
     "name": "stdout",
     "output_type": "stream",
     "text": [
      "2.00061691752955 0.6227168195303019 0.29109682977820966\n"
     ]
    },
    {
     "data": {
      "text/plain": [
       "[<matplotlib.lines.Line2D at 0x2330d76ffd0>]"
      ]
     },
     "execution_count": 7,
     "metadata": {},
     "output_type": "execute_result"
    },
    {
     "data": {
      "image/png": "[encoded data removed]",
      "text/plain": [
       "<Figure size 432x288 with 1 Axes>"
      ]
     },
     "metadata": {
      "needs_background": "light"
     },
     "output_type": "display_data"
    }
   ],
   "source": [
    "print(a,b,c)\n",
    "plt.plot(x,par(a,b,c,x),linewidth=5)\n",
    "plt.plot(x,y)"
   ]
  },
  {
   "attachments": {},
   "cell_type": "markdown",
   "metadata": {},
   "source": [
    "Assignment :  \n",
    "Now do for another equation of Hignher Degree.\n",
    "Do try for np.sin(x) also :)"
   ]
  }
 ],
 "metadata": {
  "kernelspec": {
   "display_name": "base",
   "language": "python",
   "name": "python3"
  },
  "language_info": {
   "codemirror_mode": {
    "name": "ipython",
    "version": 3
   },
   "file_extension": ".py",
   "mimetype": "text/x-python",
   "name": "python",
   "nbconvert_exporter": "python",
   "pygments_lexer": "ipython3",
   "version": "3.10.9"
  },
  "orig_nbformat": 4
 },
 "nbformat": 4,
 "nbformat_minor": 2
}
