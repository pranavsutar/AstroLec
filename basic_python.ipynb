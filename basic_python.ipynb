{
 "cells": [
  {
   "attachments": {},
   "cell_type": "markdown",
   "metadata": {},
   "source": [
    "# Basics of Python - before hands on ML"
   ]
  },
  {
   "attachments": {},
   "cell_type": "markdown",
   "metadata": {},
   "source": [
    "Copyright- (C)GaganVedhi"
   ]
  },
  {
   "attachments": {},
   "cell_type": "markdown",
   "metadata": {},
   "source": [
    " Best is to install Anaconda and use Jupyter Notebook   \n",
    " https://www.anaconda.com/download/   \n",
    " https://jupyter.org/install   \n",
    "\n",
    " \n",
    "   \n",
    " You can also use Google Collab   \n",
    " https://colab.research.google.com/notebooks/welcome.ipynb - Goto File>New Notebook   \n",
    " Or Kaggle Kernels - https://www.kaggle.com/kernels   \n",
    " Or Github Virtual Environments - [here](https://github.com/codespaces)  \n",
    " Or Microsoft Azure Notebooks - https://notebooks.azure.com/   \n",
    "   "
   ]
  },
  {
   "attachments": {},
   "cell_type": "markdown",
   "metadata": {},
   "source": [
    "But is you want to go by the minimalistic way, then   \n",
    "To install Python, see https://www.python.org/downloads/  \n",
    "To install VS Code, see https://code.visualstudio.com/download  \n",
    "To install important libraries, use pip install <library>.   \n",
    "For session, just copy this command: <code> pip install numpy pandas matplotlib seaborn scikit-learn  </code>"
   ]
  },
  {
   "attachments": {},
   "cell_type": "markdown",
   "metadata": {},
   "source": [
    " Python is an interpreted language, so you can run it in the terminal\n",
    " by typing \"python\" and then typing the code in the terminal.\n",
    " Python is also a bit slow -  \n",
    " Reason:  \n",
    " 1. Python is an interpreted language, so it needs to be compiled every time. Its high level language\n",
    " 2. Python is a dynamically typed language, so it needs to check the type of the variable every time\n",
    " 3. Python is a garbage collected language, so it needs to check if the variable is still in use every time\n",
    " 4. Python has GIL (Global Interpreter Lock), so it can only run one thread at a time, and needs to check if the thread is still running every time"
   ]
  },
  {
   "cell_type": "code",
   "execution_count": 1,
   "metadata": {},
   "outputs": [
    {
     "data": {
      "text/plain": [
       "'\\nhere is a simple flow diagram that shows how Python code is executed:   \\n   \\n+----------------+     +----------------+     +----------------+     +----------------+   \\n|                |     |                |     |                |     |                |   \\n|  Python code   +---->+  Bytecode      +---->+  Interpreter   +---->+  Machine code  |   \\n|                |     |                |     |                |     |                |   \\n+----------------+     +----------------+     +----------------+     +----------------+   \\n      ^                      ^                      ^                      ^   \\n      |                      |                      |                      |   \\n      |                      |                      |                      |   \\n      |                      |                      |                      |   \\n      +                      +                      +                      +   \\n    Source                 Compiled              Interpreted            Executed   \\n    code                   code                  code                  code   \\n    \\n    '"
      ]
     },
     "execution_count": 1,
     "metadata": {},
     "output_type": "execute_result"
    }
   ],
   "source": [
    "'''\n",
    "here is a simple flow diagram that shows how Python code is executed:   \n",
    "   \n",
    "+----------------+     +----------------+     +----------------+     +----------------+   \n",
    "|                |     |                |     |                |     |                |   \n",
    "|  Python code   +---->+  Bytecode      +---->+  Interpreter   +---->+  Machine code  |   \n",
    "|                |     |                |     |                |     |                |   \n",
    "+----------------+     +----------------+     +----------------+     +----------------+   \n",
    "      ^                      ^                      ^                      ^   \n",
    "      |                      |                      |                      |   \n",
    "      |                      |                      |                      |   \n",
    "      |                      |                      |                      |   \n",
    "      +                      +                      +                      +   \n",
    "    Source                 Compiled              Interpreted            Executed   \n",
    "    code                   code                  code                  code   \n",
    "    \n",
    "    '''"
   ]
  },
  {
   "attachments": {},
   "cell_type": "markdown",
   "metadata": {},
   "source": [
    "- Good features:    \n",
    "     - Easy to learn and use  \n",
    "     - General-purpose and multi-paradigm  \n",
    "     - Rich set of libraries and frameworks  \n",
    "     - Dynamic and interpreted  \n",
    "- Bad features:  \n",
    "     - Slow \n",
    "     - Syntactic quirks  \n",
    "     - Limitations and compatibility issues  \n",
    "  "
   ]
  },
  {
   "attachments": {},
   "cell_type": "markdown",
   "metadata": {},
   "source": [
    "# Lets start the Tutorial !"
   ]
  },
  {
   "attachments": {},
   "cell_type": "markdown",
   "metadata": {},
   "source": [
    "#### Comments in Python"
   ]
  },
  {
   "cell_type": "code",
   "execution_count": 2,
   "metadata": {},
   "outputs": [
    {
     "data": {
      "text/plain": [
       "'You can also use three double quotes as well :)'"
      ]
     },
     "execution_count": 2,
     "metadata": {},
     "output_type": "execute_result"
    }
   ],
   "source": [
    "# Comments\n",
    "# This is a comment\n",
    "# Comments are ignored by the Python interpreter\n",
    "\n",
    "# Multiline comments\n",
    "'''\n",
    "This is a multiline comment\n",
    "You can write as many lines as you want\n",
    "And end it with three single quotes\n",
    "'''\n",
    "\"\"\"You can also use three double quotes as well :)\"\"\"\n"
   ]
  },
  {
   "attachments": {},
   "cell_type": "markdown",
   "metadata": {},
   "source": [
    "#### Print Statements"
   ]
  },
  {
   "cell_type": "code",
   "execution_count": 3,
   "metadata": {},
   "outputs": [
    {
     "name": "stdout",
     "output_type": "stream",
     "text": [
      "Hello Universe\n",
      "3\n",
      "1 2 3 4 5 6 7 8 9 10\n",
      "Hello Universe 1 Hello Universe 2 Hello Universe 3\n",
      "Hello Universe !\n",
      "Hello Universe !***Hello***Universe***!\n",
      "say 3 to 7\n"
     ]
    }
   ],
   "source": [
    "# Print\n",
    "print(\"Hello Universe\")\n",
    "print(1+2)\n",
    "print(1,2,3,4,5,6,7,8,9,10)\n",
    "print(\"Hello Universe 1\", \"Hello Universe 2\", \"Hello Universe 3\")\n",
    "print(\"Hello\", \"Universe\", \"!\")\n",
    "print(\"Hello\", \"Universe\", \"!\", end=\"***\") # by default, end = \"\\n\"\n",
    "print(\"Hello\", \"Universe\", \"!\", sep=\"***\")\n",
    "print(f'say {1+2} to {3+4}')\n"
   ]
  },
  {
   "attachments": {},
   "cell_type": "markdown",
   "metadata": {},
   "source": [
    "#### Variables"
   ]
  },
  {
   "cell_type": "code",
   "execution_count": 4,
   "metadata": {},
   "outputs": [
    {
     "name": "stdout",
     "output_type": "stream",
     "text": [
      " a = 1 is of type <class 'int'>\n",
      " b = 1.0 is of type <class 'float'>\n",
      " c = Hello Universe is of type <class 'str'>\n",
      " d = True is of type <class 'bool'>\n",
      " e = (1+2j) is of type <class 'complex'>\n"
     ]
    }
   ],
   "source": [
    "# Variables\n",
    "# Python is a dynamically typed language, so you don't need to declare the type of the variable\n",
    "\n",
    "# Integer\n",
    "a = 1\n",
    "\n",
    "# Float\n",
    "b = 1.0\n",
    "\n",
    "# String\n",
    "c = \"Hello Universe\"\n",
    "cc = 'Hello Universe'\n",
    "\n",
    "# Boolean\n",
    "d = True\n",
    "\n",
    "# Complex\n",
    "e = 1+2j\n",
    "\n",
    "print(f' a = {a} is of type {type(a)}\\n b = {b} is of type {type(b)}\\n c = {c} is of type {type(c)}\\n d = {d} is of type {type(d)}\\n e = {e} is of type {type(e)}')"
   ]
  },
  {
   "attachments": {},
   "cell_type": "markdown",
   "metadata": {},
   "source": [
    "(Yes, its an Object Oriented Language like JaVa, but quite friendly than Java:) )"
   ]
  },
  {
   "cell_type": "code",
   "execution_count": 5,
   "metadata": {},
   "outputs": [
    {
     "name": "stdout",
     "output_type": "stream",
     "text": [
      "\n",
      "\n",
      "                                By: <|NAME|>\n",
      "                                Address: <|ADDRESS|>\n",
      "                                Date: <|DATE|>\n",
      "\n",
      "Dear <|NAME|>,\n",
      "    Python is a very good programming language.\n",
      "    I am very happy to learn it.\n",
      "    I just cannot live without it.\n",
      "    I my whole life is dependent on it.\n",
      "    Imagine a Universe without Python. It would be a disaster.\n",
      "\n",
      "    Thanks a ton.\n",
      "                                <|SIGNATURE|>\n"
     ]
    }
   ],
   "source": [
    "letter = '''\n",
    "\n",
    "                                By: <|NAME|>\n",
    "                                Address: <|ADDRESS|>\n",
    "                                Date: <|DATE|>\n",
    "\n",
    "Dear <|NAME|>,\n",
    "    Python is a very good programming language.\n",
    "    I am very happy to learn it.\n",
    "    I just cannot live without it.\n",
    "    I my whole life is dependent on it.\n",
    "    Imagine a Universe without Python. It would be a disaster.\n",
    "\n",
    "    Thanks a ton.\n",
    "                                <|SIGNATURE|>'''\n",
    "\n",
    "# name = input(\"Enter your name:\\n\")\n",
    "# date = input(\"Enter date:\\n\")\n",
    "# letter = letter.replace(\"<|NAME|>\", name)\n",
    "\n",
    "# letter = letter.replace(\"<|DATE|>\", date)\n",
    "print(letter)"
   ]
  },
  {
   "attachments": {},
   "cell_type": "markdown",
   "metadata": {},
   "source": [
    "#### Operations"
   ]
  },
  {
   "cell_type": "code",
   "execution_count": 6,
   "metadata": {},
   "outputs": [
    {
     "name": "stdout",
     "output_type": "stream",
     "text": [
      "Arithmetic Operators\n",
      "1 + 2 = 3\n",
      "1 - 2 = -1\n",
      "1 * 2 = 2\n",
      "5 / 2 = 2.5\n",
      "5 // 2 = 2\n",
      "5 % 2 = 1\n",
      "5 ** 2 = 25\n",
      "Assignment Operators\n",
      "a = 1\n",
      "a += 1 = 2\n",
      "a -= 1 = 1\n",
      "Same for *=, /=, //=, %=, **=\n",
      "\n",
      "Comparison Operators\n",
      "1 == 2 = False\n",
      "1 != 2 = True\n",
      "1 > 2 = False\n",
      "1 < 2 = True\n",
      "1 >= 2 = False\n",
      "1 <= 2 = True\n"
     ]
    }
   ],
   "source": [
    "# Arithmetic Operators\n",
    "print('Arithmetic Operators')\n",
    "print(f'1 + 2 = {1+2}')\n",
    "print(f'1 - 2 = {1-2}')\n",
    "print(f'1 * 2 = {1*2}')\n",
    "print(f'5 / 2 = {5/2}')\n",
    "print(f'5 // 2 = {5//2}')  # floor division\n",
    "print(f'5 % 2 = {5%2}')\n",
    "print(f'5 ** 2 = {5**2}')  # power function\n",
    "\n",
    "# Assignment Operators\n",
    "print('Assignment Operators')\n",
    "a = 1\n",
    "print(f'a = {a}')\n",
    "a += 1\n",
    "print(f'a += 1 = {a}')\n",
    "a -= 1\n",
    "print(f'a -= 1 = {a}')\n",
    "print('Same for *=, /=, //=, %=, **=')\n",
    "print()\n",
    "# Comparison Operators\n",
    "print('Comparison Operators')\n",
    "print(f'1 == 2 = {1==2}')\n",
    "print(f'1 != 2 = {1!=2}')\n",
    "print(f'1 > 2 = {1>2}')\n",
    "print(f'1 < 2 = {1<2}')\n",
    "print(f'1 >= 2 = {1>=2}')\n",
    "print(f'1 <= 2 = {1<=2}')\n",
    "\n"
   ]
  },
  {
   "attachments": {},
   "cell_type": "markdown",
   "metadata": {},
   "source": [
    "#### Conditionals"
   ]
  },
  {
   "cell_type": "code",
   "execution_count": 7,
   "metadata": {},
   "outputs": [
    {
     "name": "stdout",
     "output_type": "stream",
     "text": [
      "1 is less than 2\n"
     ]
    }
   ],
   "source": [
    "# Conditional Statements\n",
    "# if, elif, else\n",
    "a = 1\n",
    "b = 2\n",
    "if a > b:\n",
    "    print(f'{a} is greater than {b}')\n",
    "elif a < b:\n",
    "    print(f'{a} is less than {b}')\n",
    "else:\n",
    "    print(f'{a} is equal to {b}')\n",
    "    "
   ]
  },
  {
   "cell_type": "code",
   "execution_count": 8,
   "metadata": {},
   "outputs": [
    {
     "name": "stdout",
     "output_type": "stream",
     "text": [
      "3 is greater than 1 and 2\n"
     ]
    }
   ],
   "source": [
    "# Nested conditional statements\n",
    "a = 1\n",
    "b = 2\n",
    "c = 3\n",
    "if a > b:\n",
    "    if a > c:\n",
    "        print(f'{a} is greater than {b} and {c}')\n",
    "    else:\n",
    "        print(f'{c} is greater than {a} and {b}')\n",
    "elif a < b:\n",
    "    if b > c:\n",
    "        print(f'{b} is greater than {a} and {c}')\n",
    "    else:\n",
    "        print(f'{c} is greater than {a} and {b}')\n",
    "else:\n",
    "    print(f'{a} is equal to {b} and {c}')\n"
   ]
  },
  {
   "attachments": {},
   "cell_type": "markdown",
   "metadata": {},
   "source": [
    "Lists and Dictionary"
   ]
  },
  {
   "cell_type": "markdown",
   "metadata": {},
   "source": [
    "1. Lists\n",
    "\n",
    "  - List is a collection which is ordered and changeable. Allows duplicate members.\n",
    "  - List is a mutable data type --> can be changed\n",
    "  - List is a dynamic data type --> can be changed\n",
    "  - List is a heterogenous data type --> can contain different data types\n",
    "  \n",
    "Its just like an array in C/C++/Java\n",
    "\n"
   ]
  },
  {
   "cell_type": "code",
   "execution_count": 9,
   "metadata": {},
   "outputs": [
    {
     "name": "stdout",
     "output_type": "stream",
     "text": [
      "a = [1, 2, 3, 4, 5]\n",
      "a[0] = 1\n",
      "a[1] = 2\n",
      "a[-1] = 5\n",
      "a[-2] = 4\n",
      "a[0:2] = [1, 2]\n",
      "a[1:3] = [2, 3]\n",
      "a[-3:-1] = [3, 4]\n",
      "a[-3:] = [3, 4, 5]\n",
      "a[:-3] = [1, 2]\n",
      "a[:] = [1, 2, 3, 4, 5]\n",
      "Modfied a[0] = 1 to 10\n",
      "a = [10, 2, 3, 4, 5]\n"
     ]
    }
   ],
   "source": [
    "# Lists\n",
    "\n",
    "# Create a list\n",
    "a = [1, 2, 3, 4, 5]\n",
    "print(f'a = {a}')\n",
    "\n",
    "# Access elements of a list\n",
    "print(f'a[0] = {a[0]}')\n",
    "print(f'a[1] = {a[1]}')\n",
    "\n",
    "# Access elements of a list using negative indices\n",
    "print(f'a[-1] = {a[-1]}')\n",
    "print(f'a[-2] = {a[-2]}')\n",
    "\n",
    "# Access elements of a list using range\n",
    "print(f'a[0:2] = {a[0:2]}')\n",
    "print(f'a[1:3] = {a[1:3]}')\n",
    "\n",
    "# Access elements of a list using range with negative indices\n",
    "print(f'a[-3:-1] = {a[-3:-1]}')\n",
    "print(f'a[-3:] = {a[-3:]}')\n",
    "\n",
    "# Access elements of a list using range with negative indices\n",
    "print(f'a[:-3] = {a[:-3]}')\n",
    "print(f'a[:] = {a[:]}')\n",
    "\n",
    "# Modify elements of a list\n",
    "print(f'Modfied a[0] = {a[0]} to 10')\n",
    "a[0] = 10\n",
    "print(f'a = {a}')\n",
    "\n"
   ]
  },
  {
   "cell_type": "code",
   "execution_count": 10,
   "metadata": {},
   "outputs": [
    {
     "name": "stdout",
     "output_type": "stream",
     "text": [
      "1 2 3 4 5 6 7 8 9 \n",
      "Done\n"
     ]
    }
   ],
   "source": [
    "# Loops\n",
    "# while loop\n",
    "a = 1\n",
    "while a < 10:\n",
    "    print(a, end=' ')\n",
    "    a += 1\n",
    "print('\\nDone')\n",
    "\n",
    "\n",
    "    "
   ]
  },
  {
   "cell_type": "code",
   "execution_count": 11,
   "metadata": {},
   "outputs": [
    {
     "name": "stdout",
     "output_type": "stream",
     "text": [
      "1 4 9 16 25 \n",
      "Done\n"
     ]
    }
   ],
   "source": [
    "# For each loop\n",
    "sq = [1, 4, 9, 16, 25]\n",
    "for i in sq:\n",
    "    print(i, end=' ')\n",
    "print('\\nDone')"
   ]
  },
  {
   "cell_type": "code",
   "execution_count": 12,
   "metadata": {},
   "outputs": [
    {
     "name": "stdout",
     "output_type": "stream",
     "text": [
      "range(10) = [0, 1, 2, 3, 4, 5, 6, 7, 8, 9]\n",
      "range(1, 10) = [1, 2, 3, 4, 5, 6, 7, 8, 9]\n",
      "range(1, 10, 2) = [1, 3, 5, 7, 9]\n",
      "range(10, 1, -1) = [10, 9, 8, 7, 6, 5, 4, 3, 2, 1, 0]\n"
     ]
    }
   ],
   "source": [
    "# range function\n",
    "print('range(10) =', list(range(10)))\n",
    "print('range(1, 10) =', list(range(1, 10)))\n",
    "print('range(1, 10, 2) =', list(range(1, 10, 2)))\n",
    "print('range(10, 1, -1) =', list(range(10, -1, -1)))\n"
   ]
  },
  {
   "cell_type": "code",
   "execution_count": 13,
   "metadata": {},
   "outputs": [
    {
     "name": "stdout",
     "output_type": "stream",
     "text": [
      "0 1 2 3 4 5 6 7 8 9 \n",
      "Done\n"
     ]
    }
   ],
   "source": [
    "# For loop using range function\n",
    "for i in range(10):\n",
    "    print(i, end=' ')\n",
    "print('\\nDone')\n"
   ]
  },
  {
   "cell_type": "code",
   "execution_count": 14,
   "metadata": {},
   "outputs": [
    {
     "name": "stdout",
     "output_type": "stream",
     "text": [
      "1 \n",
      "1 2 \n",
      "1 2 3 \n",
      "1 2 3 4 \n",
      "1 2 3 4 5 \n"
     ]
    }
   ],
   "source": [
    "# Now, let's try to print the following pattern\n",
    "# 1\n",
    "# 1 2\n",
    "# 1 2 3\n",
    "# 1 2 3 4\n",
    "# 1 2 3 4 5\n",
    "\n",
    "for i in range(1, 6):\n",
    "    for j in range(1, i+1):\n",
    "        print(j, end=' ')\n",
    "    print()\n"
   ]
  },
  {
   "cell_type": "code",
   "execution_count": 15,
   "metadata": {},
   "outputs": [
    {
     "name": "stdout",
     "output_type": "stream",
     "text": [
      "5 + 4 = 9\n",
      "5 - 4 = 1\n"
     ]
    }
   ],
   "source": [
    "# Functions\n",
    "# def function_name(parameters):\n",
    "#     body of the function\n",
    "#     return value\n",
    "\n",
    "# You can return multiple values from a function\n",
    "def add_sub(x, y):\n",
    "    c = x + y\n",
    "    d = x - y\n",
    "    return c, d\n",
    "\n",
    "result1, result2 = add_sub(5, 4)\n",
    "print(f'5 + 4 = {result1}')\n",
    "print(f'5 - 4 = {result2}')\n"
   ]
  },
  {
   "cell_type": "code",
   "execution_count": 16,
   "metadata": {},
   "outputs": [
    {
     "name": "stdout",
     "output_type": "stream",
     "text": [
      "Value of pi = 3.141592653589793\n",
      "Value of e = 2.718281828459045\n",
      "Value of pi = 3.141592653589793\n",
      "Value of e = 2.718281828459045\n",
      "Value of pi = 3.141592653589793\n",
      "Value of e = 2.718281828459045\n",
      "Value of pi = 3.141592653589793\n",
      "Value of e = 2.718281828459045\n",
      "Value of log(10) = 2.302585092994046\n"
     ]
    }
   ],
   "source": [
    "# Importing modules\n",
    "import math\n",
    "print(f'Value of pi = {math.pi}')\n",
    "print(f'Value of e = {math.e}')\n",
    "\n",
    "# Importing specific functions from a module\n",
    "from math import pi, e\n",
    "print(f'Value of pi = {pi}')\n",
    "print(f'Value of e = {e}')\n",
    "\n",
    "# Importing all functions from a module\n",
    "from math import *\n",
    "print(f'Value of pi = {pi}')\n",
    "print(f'Value of e = {e}')\n",
    "\n",
    "# Importing a module with a different name\n",
    "import math as mm\n",
    "print(f'Value of pi = {mm.pi}')\n",
    "print(f'Value of e = {mm.e}')\n",
    "print(f'Value of log(10) = {mm.log(10)}')\n"
   ]
  },
  {
   "cell_type": "code",
   "execution_count": 17,
   "metadata": {},
   "outputs": [
    {
     "name": "stdout",
     "output_type": "stream",
     "text": [
      "a = Hello Universe\n",
      "Length of a = 14\n",
      "First character of a = H\n",
      "Last character of a = e\n",
      "First 5 characters of a = Hello\n",
      "Last 5 characters of a = verse\n",
      "All characters of a except first and last = ello Univers\n",
      "a[::2] = HloUies\n",
      "a[::-1] = esrevinU olleH\n",
      "a.upper() = HELLO UNIVERSE\n",
      "a.lower() = hello universe\n",
      "a.title() = Hello Universe\n"
     ]
    }
   ],
   "source": [
    "# String functions\n",
    "a = 'Hello Universe'\n",
    "print(f'a = {a}')\n",
    "print(f'Length of a = {len(a)}')\n",
    "print(f'First character of a = {a[0]}')\n",
    "print(f'Last character of a = {a[-1]}')\n",
    "print(f'First 5 characters of a = {a[:5]}')\n",
    "print(f'Last 5 characters of a = {a[-5:]}')\n",
    "print(f'All characters of a except first and last = {a[1:-1]}')\n",
    "\n",
    "# Slice notation\n",
    "# [start:stop:step]\n",
    "print(f'a[::2] = {a[::2]}')\n",
    "print(f'a[::-1] = {a[::-1]}')\n",
    "\n",
    "# String methods\n",
    "print(f'a.upper() = {a.upper()}')\n",
    "print(f'a.lower() = {a.lower()}')\n",
    "print(f'a.title() = {a.title()}')\n",
    "\n"
   ]
  },
  {
   "cell_type": "markdown",
   "metadata": {},
   "source": [
    "Some libraries for data science and machine learning\n",
    "1. Numpy - Numerical Python - for speed and efficiency in numerical computations\n",
    "2. Pandas - for data analysis and manipulation, loading and saving data\n",
    "3. Matplotlib - for data visualization, plotting various graphs\n",
    "4. Scikit-learn - for machine learning algorithms - Its a lifesaver !\n",
    "5. Tensorflow/Pytorch - for deep learning algorithms - Also lifesavers !\n",
    "\n"
   ]
  },
  {
   "attachments": {},
   "cell_type": "markdown",
   "metadata": {},
   "source": [
    "#### Task 1\n",
    "\n",
    "Code for Tic-Tac-Toe State Detection --> To appreciate DL\n",
    "- check if its a valid state\n",
    "- check if its a terminal state\n",
    "- check if its a win state, if yes, who won\n",
    "- check if its a draw state\n",
    "\n",
    "#### Task 2\n",
    "\n",
    "(a) Write a function to check if a given number is prime or not --> To get familiar with loops and conditionals\n",
    "\n"
   ]
  }
 ],
 "metadata": {
  "kernelspec": {
   "display_name": "Python 3",
   "language": "python",
   "name": "python3"
  },
  "language_info": {
   "codemirror_mode": {
    "name": "ipython",
    "version": 3
   },
   "file_extension": ".py",
   "mimetype": "text/x-python",
   "name": "python",
   "nbconvert_exporter": "python",
   "pygments_lexer": "ipython3",
   "version": "3.10.9"
  },
  "orig_nbformat": 4
 },
 "nbformat": 4,
 "nbformat_minor": 2
}
