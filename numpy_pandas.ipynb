{
 "cells": [
  {
   "cell_type": "markdown",
   "metadata": {},
   "source": [
    "# Numpy: Package for Multidimensional array\n",
    "## Vector(1d)\n",
    "### Matrix(2d or 1d)"
   ]
  },
  {
   "cell_type": "code",
   "execution_count": 1,
   "metadata": {},
   "outputs": [],
   "source": [
    "import numpy as np # importing numpy, and giving it the alias np"
   ]
  },
  {
   "attachments": {},
   "cell_type": "markdown",
   "metadata": {},
   "source": [
    "##### Simple Tasks"
   ]
  },
  {
   "cell_type": "code",
   "execution_count": 2,
   "metadata": {},
   "outputs": [
    {
     "data": {
      "text/plain": [
       "array([6, 7, 9])"
      ]
     },
     "execution_count": 2,
     "metadata": {},
     "output_type": "execute_result"
    }
   ],
   "source": [
    "# Transforming a list into a numpy array\n",
    "simple_list=[6,7,9]\n",
    "np.array(simple_list)"
   ]
  },
  {
   "cell_type": "code",
   "execution_count": null,
   "metadata": {},
   "outputs": [],
   "source": [
    "arr=np.array([1,2,3]) # creating a numpy array\n",
    "arr"
   ]
  },
  {
   "cell_type": "code",
   "execution_count": null,
   "metadata": {},
   "outputs": [],
   "source": [
    "# Transforming a list of lists(2d list) into a numpy array(2d array)\n",
    "list_of_lists=[\n",
    "    [1,2,3],\n",
    "    [4,5,6],\n",
    "    [7,8,9]\n",
    "]\n",
    "np.array(list_of_lists)"
   ]
  },
  {
   "cell_type": "code",
   "execution_count": 4,
   "metadata": {},
   "outputs": [
    {
     "data": {
      "text/plain": [
       "array([ 1,  2,  3,  4,  5,  6,  7,  8,  9, 10])"
      ]
     },
     "execution_count": 4,
     "metadata": {},
     "output_type": "execute_result"
    }
   ],
   "source": [
    "# Its like range() function, but it returns a numpy array\n",
    "np.arange(1,11)"
   ]
  },
  {
   "cell_type": "code",
   "execution_count": null,
   "metadata": {},
   "outputs": [],
   "source": [
    "np.arange(5,30,5) # 5 is the start, 30 is the end, 5 is the step"
   ]
  },
  {
   "cell_type": "code",
   "execution_count": null,
   "metadata": {},
   "outputs": [],
   "source": [
    "np.zeros(100) # creates a numpy array of 100 zeros"
   ]
  },
  {
   "cell_type": "code",
   "execution_count": null,
   "metadata": {},
   "outputs": [],
   "source": [
    "np.zeros(10,dtype=int) # creates a numpy array of 10 zeros, but with int type"
   ]
  },
  {
   "cell_type": "code",
   "execution_count": null,
   "metadata": {},
   "outputs": [],
   "source": [
    "np.ones((2,5)) # creates a 2x5 numpy array of ones"
   ]
  },
  {
   "cell_type": "code",
   "execution_count": null,
   "metadata": {},
   "outputs": [],
   "source": [
    "# np.linspace(0,1,5) It returns 5 evenly spaced numbers between 0 and 1, which includes 0 and 1\n",
    "np.linspace(0,1,5)"
   ]
  },
  {
   "cell_type": "code",
   "execution_count": null,
   "metadata": {},
   "outputs": [],
   "source": [
    "np.linspace(0,1,5,endpoint=False), # endpoint=False means it will not include 1"
   ]
  },
  {
   "cell_type": "code",
   "execution_count": null,
   "metadata": {},
   "outputs": [],
   "source": [
    "np.linspace(0,1,6)"
   ]
  },
  {
   "cell_type": "code",
   "execution_count": null,
   "metadata": {},
   "outputs": [],
   "source": [
    "l1 = np.linspace(0,20,8) #step = (20-0)/7 = 2.857142857142857\n",
    "l2 = np.linspace(0,20,9) #step = (20-0)/8 = 2.5\n",
    "l1,l2"
   ]
  },
  {
   "attachments": {},
   "cell_type": "markdown",
   "metadata": {},
   "source": [
    "##### Matrix Formation"
   ]
  },
  {
   "cell_type": "code",
   "execution_count": null,
   "metadata": {},
   "outputs": [],
   "source": [
    "np.eye(10,dtype=int)  # creates a 10x10 numpy array which is identity matrix"
   ]
  },
  {
   "cell_type": "code",
   "execution_count": null,
   "metadata": {},
   "outputs": [],
   "source": [
    "np.random.rand(2,4) # It returns a 2x4 array of random numbers between 0 and 1"
   ]
  },
  {
   "cell_type": "code",
   "execution_count": null,
   "metadata": {},
   "outputs": [],
   "source": [
    "np.random.randn(2,4) # It returns a 2x4 array of random numbers from standard normal distribution"
   ]
  },
  {
   "cell_type": "code",
   "execution_count": null,
   "metadata": {},
   "outputs": [],
   "source": [
    "np.random.randint(2,10) # It returns a random integer between 2 and 10"
   ]
  },
  {
   "cell_type": "code",
   "execution_count": null,
   "metadata": {},
   "outputs": [],
   "source": [
    "np.random.randint(20,56,100)"
   ]
  },
  {
   "cell_type": "code",
   "execution_count": null,
   "metadata": {},
   "outputs": [],
   "source": [
    "sample_array=np.arange(30)\n",
    "sample_array"
   ]
  },
  {
   "cell_type": "code",
   "execution_count": null,
   "metadata": {},
   "outputs": [],
   "source": [
    "rand_array=np.random.randint(0,100,20)\n",
    "rand_array"
   ]
  },
  {
   "cell_type": "code",
   "execution_count": null,
   "metadata": {},
   "outputs": [],
   "source": [
    "sample_array.reshape(5,6)"
   ]
  },
  {
   "cell_type": "code",
   "execution_count": null,
   "metadata": {},
   "outputs": [],
   "source": [
    "rand_array.min()"
   ]
  },
  {
   "cell_type": "code",
   "execution_count": null,
   "metadata": {},
   "outputs": [],
   "source": [
    "rand_array.argmin()"
   ]
  },
  {
   "cell_type": "code",
   "execution_count": null,
   "metadata": {},
   "outputs": [],
   "source": [
    "sample_array "
   ]
  },
  {
   "cell_type": "code",
   "execution_count": null,
   "metadata": {},
   "outputs": [],
   "source": [
    "sample_array.shape # It returns the shape of the array"
   ]
  },
  {
   "cell_type": "code",
   "execution_count": null,
   "metadata": {},
   "outputs": [],
   "source": [
    "sample_array.reshape(5,6) # It returns a 5x6 array "
   ]
  },
  {
   "cell_type": "code",
   "execution_count": null,
   "metadata": {},
   "outputs": [],
   "source": [
    "sample_array.dtype # It returns the data type of the array"
   ]
  },
  {
   "attachments": {},
   "cell_type": "markdown",
   "metadata": {},
   "source": [
    "##### Some more matrix operations"
   ]
  },
  {
   "cell_type": "code",
   "execution_count": null,
   "metadata": {},
   "outputs": [],
   "source": [
    "a=np.eye(5)\n",
    "a"
   ]
  },
  {
   "cell_type": "code",
   "execution_count": null,
   "metadata": {},
   "outputs": [],
   "source": [
    "a.T # It returns the transpose of the array"
   ]
  },
  {
   "cell_type": "code",
   "execution_count": null,
   "metadata": {},
   "outputs": [],
   "source": [
    "a=np.random.rand(2,3) # It returns a 2x3 array of random numbers between 0 and 1\n",
    "a"
   ]
  },
  {
   "cell_type": "code",
   "execution_count": null,
   "metadata": {},
   "outputs": [],
   "source": [
    "a.T     # It returns the transpose of the array"
   ]
  },
  {
   "cell_type": "code",
   "execution_count": 36,
   "metadata": {},
   "outputs": [],
   "source": [
    "import numpy as np"
   ]
  },
  {
   "cell_type": "code",
   "execution_count": 37,
   "metadata": {},
   "outputs": [
    {
     "data": {
      "text/plain": [
       "array([10, 11, 12, 13, 14, 15, 16, 17, 18, 19, 20])"
      ]
     },
     "execution_count": 37,
     "metadata": {},
     "output_type": "execute_result"
    }
   ],
   "source": [
    "sample_array=np.arange(10,21) # It returns an array of numbers between 10 and 20\n",
    "sample_array"
   ]
  },
  {
   "cell_type": "code",
   "execution_count": 38,
   "metadata": {},
   "outputs": [
    {
     "data": {
      "text/plain": [
       "18"
      ]
     },
     "execution_count": 38,
     "metadata": {},
     "output_type": "execute_result"
    }
   ],
   "source": [
    "sample_array[8] # It returns the 8th element of the array"
   ]
  },
  {
   "cell_type": "code",
   "execution_count": 39,
   "metadata": {},
   "outputs": [
    {
     "data": {
      "text/plain": [
       "array([12, 13, 14])"
      ]
     },
     "execution_count": 39,
     "metadata": {},
     "output_type": "execute_result"
    }
   ],
   "source": [
    "sample_array[2:5] # It returns the elements from 2nd to 4th index"
   ]
  },
  {
   "cell_type": "code",
   "execution_count": 40,
   "metadata": {},
   "outputs": [
    {
     "data": {
      "text/plain": [
       "array([ 10, 100, 100, 100,  14,  15,  16,  17,  18,  19,  20])"
      ]
     },
     "execution_count": 40,
     "metadata": {},
     "output_type": "execute_result"
    }
   ],
   "source": [
    "sample_array[1:4]=100 # It changes the elements from 1st to 3rd index to 100\n",
    "sample_array"
   ]
  },
  {
   "cell_type": "code",
   "execution_count": 41,
   "metadata": {},
   "outputs": [
    {
     "data": {
      "text/plain": [
       "array([10, 11, 12, 13, 14, 15, 16, 17, 18, 19, 20])"
      ]
     },
     "execution_count": 41,
     "metadata": {},
     "output_type": "execute_result"
    }
   ],
   "source": [
    "sample_array=np.arange(10,21)\n",
    "sample_array"
   ]
  },
  {
   "cell_type": "code",
   "execution_count": null,
   "metadata": {},
   "outputs": [],
   "source": [
    "sample_array[0:7] # It returns the elements from 0th to 6th index"
   ]
  },
  {
   "cell_type": "code",
   "execution_count": 42,
   "metadata": {},
   "outputs": [
    {
     "data": {
      "text/plain": [
       "array([10, 11, 12, 13, 14, 15, 16])"
      ]
     },
     "execution_count": 42,
     "metadata": {},
     "output_type": "execute_result"
    }
   ],
   "source": [
    "subset_sample_array=sample_array[0:7] # It returns the elements from 0th to 6th index\n",
    "subset_sample_array"
   ]
  },
  {
   "cell_type": "code",
   "execution_count": 45,
   "metadata": {},
   "outputs": [
    {
     "data": {
      "text/plain": [
       "(array([1001, 1001, 1001, 1001, 1001, 1001, 1001]),\n",
       " array([1001, 1001, 1001, 1001, 1001, 1001, 1001,   17,   18,   19,   20]))"
      ]
     },
     "execution_count": 45,
     "metadata": {},
     "output_type": "execute_result"
    }
   ],
   "source": [
    "subset_sample_array[:]=1001 # It changes the elements from 0th to 6th index to 1001\n",
    "# We can see that the changes are also reflected in the original array\n",
    "subset_sample_array , sample_array"
   ]
  },
  {
   "cell_type": "code",
   "execution_count": null,
   "metadata": {},
   "outputs": [],
   "source": []
  },
  {
   "cell_type": "markdown",
   "metadata": {},
   "source": [
    "### Two-Dimensional array"
   ]
  },
  {
   "cell_type": "code",
   "execution_count": null,
   "metadata": {},
   "outputs": [],
   "source": [
    "import numpy as np"
   ]
  },
  {
   "cell_type": "code",
   "execution_count": null,
   "metadata": {},
   "outputs": [],
   "source": [
    "sample_matrix=np.array(([50,20,1,23],[24,23,21,33],[56,76,24,7]))\n",
    "sample_matrix"
   ]
  },
  {
   "cell_type": "code",
   "execution_count": null,
   "metadata": {},
   "outputs": [],
   "source": [
    "sample_matrix[0][2] # printing 1"
   ]
  },
  {
   "cell_type": "code",
   "execution_count": null,
   "metadata": {},
   "outputs": [],
   "source": [
    "sample_matrix[2,:] # printing 3rd row"
   ]
  },
  {
   "cell_type": "code",
   "execution_count": null,
   "metadata": {},
   "outputs": [],
   "source": [
    "sample_matrix[2] # printing 3rd row"
   ]
  },
  {
   "cell_type": "code",
   "execution_count": null,
   "metadata": {},
   "outputs": [],
   "source": [
    "sample_matrix[:,2] # printing 3rd column"
   ]
  },
  {
   "cell_type": "markdown",
   "metadata": {},
   "source": [
    "### Custom indexing"
   ]
  },
  {
   "cell_type": "code",
   "execution_count": null,
   "metadata": {},
   "outputs": [],
   "source": [
    "sample_matrix=np.array(([30,10,1,23],[24,21,32,33],[6,76,24,7]))\n",
    "sample_matrix"
   ]
  },
  {
   "cell_type": "code",
   "execution_count": null,
   "metadata": {},
   "outputs": [],
   "source": [
    "sample_matrix[:,(3,2)]"
   ]
  },
  {
   "cell_type": "markdown",
   "metadata": {},
   "source": [
    "###  Selection techniques"
   ]
  },
  {
   "cell_type": "code",
   "execution_count": null,
   "metadata": {},
   "outputs": [],
   "source": [
    "sample_array=np.arange(1,31)\n",
    "sample_array"
   ]
  },
  {
   "cell_type": "code",
   "execution_count": null,
   "metadata": {},
   "outputs": [],
   "source": [
    "bool=sample_array<10\n",
    "bool"
   ]
  },
  {
   "cell_type": "code",
   "execution_count": null,
   "metadata": {},
   "outputs": [],
   "source": [
    "sample_array[bool]"
   ]
  },
  {
   "cell_type": "code",
   "execution_count": null,
   "metadata": {},
   "outputs": [],
   "source": [
    "sample_array+sample_array"
   ]
  },
  {
   "cell_type": "code",
   "execution_count": null,
   "metadata": {},
   "outputs": [],
   "source": [
    "np.exp(sample_array)"
   ]
  },
  {
   "cell_type": "code",
   "execution_count": null,
   "metadata": {},
   "outputs": [],
   "source": [
    "np.sqrt(sample_array)"
   ]
  },
  {
   "cell_type": "code",
   "execution_count": null,
   "metadata": {},
   "outputs": [],
   "source": [
    "np.log(sample_array)"
   ]
  },
  {
   "cell_type": "code",
   "execution_count": null,
   "metadata": {},
   "outputs": [],
   "source": [
    "np.max(sample_array)"
   ]
  },
  {
   "cell_type": "code",
   "execution_count": null,
   "metadata": {},
   "outputs": [],
   "source": [
    "np.min(sample_array)"
   ]
  },
  {
   "cell_type": "code",
   "execution_count": null,
   "metadata": {},
   "outputs": [],
   "source": [
    "np.argmax(sample_array)"
   ]
  },
  {
   "cell_type": "code",
   "execution_count": null,
   "metadata": {},
   "outputs": [],
   "source": [
    "np.argmin(sample_array)"
   ]
  },
  {
   "cell_type": "code",
   "execution_count": null,
   "metadata": {},
   "outputs": [],
   "source": [
    "np.square(sample_array)"
   ]
  },
  {
   "cell_type": "code",
   "execution_count": null,
   "metadata": {},
   "outputs": [],
   "source": [
    "np.std(sample_array)"
   ]
  },
  {
   "cell_type": "code",
   "execution_count": null,
   "metadata": {},
   "outputs": [],
   "source": [
    "np.var(sample_array)\n"
   ]
  },
  {
   "cell_type": "code",
   "execution_count": null,
   "metadata": {},
   "outputs": [],
   "source": [
    "np.mean(sample_array)"
   ]
  },
  {
   "cell_type": "code",
   "execution_count": null,
   "metadata": {},
   "outputs": [],
   "source": [
    "array=np.random.randn(3,6)\n",
    "array"
   ]
  },
  {
   "cell_type": "code",
   "execution_count": null,
   "metadata": {},
   "outputs": [],
   "source": [
    "np.round(array,decimals=2)"
   ]
  },
  {
   "cell_type": "code",
   "execution_count": 51,
   "metadata": {},
   "outputs": [
    {
     "data": {
      "text/plain": [
       "(array(['cricket', 'fball', 'golf'], dtype='<U7'),\n",
       " array(['cricket', 'fball', 'golf'], dtype='<U7'))"
      ]
     },
     "execution_count": 51,
     "metadata": {},
     "output_type": "execute_result"
    }
   ],
   "source": [
    "sports=np.array(['golf','cricket','fball','cricket'])\n",
    "sports_repeat= np.array(['golf','cricket','fball','cricket','cricket','cricket','cricket','cricket','cricket','cricket'])\n",
    "np.unique(sports), np.unique(sports)"
   ]
  },
  {
   "attachments": {},
   "cell_type": "markdown",
   "metadata": {},
   "source": [
    "#### Pandas"
   ]
  },
  {
   "cell_type": "code",
   "execution_count": null,
   "metadata": {},
   "outputs": [],
   "source": [
    "import pandas as pd # importing pandas, and renaming it as pd ( for convenience)\n",
    "import numpy as np"
   ]
  },
  {
   "cell_type": "code",
   "execution_count": 52,
   "metadata": {},
   "outputs": [
    {
     "data": {
      "text/plain": [
       "{'w': 10, 'x': 20, 'y': 30, 'z': 40}"
      ]
     },
     "execution_count": 52,
     "metadata": {},
     "output_type": "execute_result"
    }
   ],
   "source": [
    "labels=['w','x','y','z']\n",
    "sample_list=[10,20,30,40]\n",
    "array=np.array([1,2,3,4])\n",
    "dict={'w':10,'x':20,'y':30,'z':40} # dictionary\n",
    "# smarter way to create a dictionary\n",
    "dict = {key:value for key,value in zip(labels,sample_list)}\n",
    "dict\n"
   ]
  },
  {
   "cell_type": "code",
   "execution_count": null,
   "metadata": {},
   "outputs": [],
   "source": [
    "pd.Series(data=sample_list) # It will create a series with default index"
   ]
  },
  {
   "cell_type": "code",
   "execution_count": null,
   "metadata": {},
   "outputs": [],
   "source": [
    "pd.Series(data=sample_list,index=labels) # It will create a series with custom index"
   ]
  },
  {
   "cell_type": "code",
   "execution_count": null,
   "metadata": {},
   "outputs": [],
   "source": [
    "pd.Series(array,labels)"
   ]
  },
  {
   "cell_type": "code",
   "execution_count": null,
   "metadata": {},
   "outputs": [],
   "source": [
    "pd.Series(dict)"
   ]
  },
  {
   "attachments": {},
   "cell_type": "markdown",
   "metadata": {},
   "source": [
    "##### Pandas dataframe and indexing"
   ]
  },
  {
   "cell_type": "code",
   "execution_count": 54,
   "metadata": {},
   "outputs": [
    {
     "data": {
      "text/plain": [
       "cricket       1\n",
       "football      2\n",
       "basketball    3\n",
       "golf          4\n",
       "dtype: int64"
      ]
     },
     "execution_count": 54,
     "metadata": {},
     "output_type": "execute_result"
    }
   ],
   "source": [
    "sports1=pd.Series([1,2,3,4],index=['cricket','football','basketball','golf'])\n",
    "sports1"
   ]
  },
  {
   "cell_type": "code",
   "execution_count": null,
   "metadata": {},
   "outputs": [],
   "source": [
    "sports1['football']"
   ]
  },
  {
   "cell_type": "code",
   "execution_count": null,
   "metadata": {},
   "outputs": [],
   "source": [
    "sports2=pd.Series([11,2,3,4],index=['cricket','football','baseball','golf'])\n",
    "sports2"
   ]
  },
  {
   "cell_type": "code",
   "execution_count": null,
   "metadata": {},
   "outputs": [],
   "source": [
    "sports1+sports2"
   ]
  },
  {
   "cell_type": "code",
   "execution_count": 53,
   "metadata": {},
   "outputs": [
    {
     "data": {
      "text/html": [
       "<div>\n",
       "<style scoped>\n",
       "    .dataframe tbody tr th:only-of-type {\n",
       "        vertical-align: middle;\n",
       "    }\n",
       "\n",
       "    .dataframe tbody tr th {\n",
       "        vertical-align: top;\n",
       "    }\n",
       "\n",
       "    .dataframe thead th {\n",
       "        text-align: right;\n",
       "    }\n",
       "</style>\n",
       "<table border=\"1\" class=\"dataframe\">\n",
       "  <thead>\n",
       "    <tr style=\"text-align: right;\">\n",
       "      <th></th>\n",
       "      <th>Score1</th>\n",
       "      <th>Score2</th>\n",
       "      <th>Score3</th>\n",
       "      <th>Score4</th>\n",
       "      <th>Score5</th>\n",
       "    </tr>\n",
       "  </thead>\n",
       "  <tbody>\n",
       "    <tr>\n",
       "      <th>A</th>\n",
       "      <td>-0.782019</td>\n",
       "      <td>0.402101</td>\n",
       "      <td>1.160753</td>\n",
       "      <td>0.530398</td>\n",
       "      <td>-1.302952</td>\n",
       "    </tr>\n",
       "    <tr>\n",
       "      <th>B</th>\n",
       "      <td>0.067790</td>\n",
       "      <td>0.612669</td>\n",
       "      <td>0.797581</td>\n",
       "      <td>0.007537</td>\n",
       "      <td>-1.656454</td>\n",
       "    </tr>\n",
       "    <tr>\n",
       "      <th>C</th>\n",
       "      <td>-1.020976</td>\n",
       "      <td>-0.272863</td>\n",
       "      <td>-0.171317</td>\n",
       "      <td>1.138011</td>\n",
       "      <td>1.823249</td>\n",
       "    </tr>\n",
       "    <tr>\n",
       "      <th>D</th>\n",
       "      <td>0.290892</td>\n",
       "      <td>-2.090637</td>\n",
       "      <td>-0.430508</td>\n",
       "      <td>-0.807548</td>\n",
       "      <td>-0.750806</td>\n",
       "    </tr>\n",
       "    <tr>\n",
       "      <th>E</th>\n",
       "      <td>0.442173</td>\n",
       "      <td>-0.135445</td>\n",
       "      <td>0.027866</td>\n",
       "      <td>0.579949</td>\n",
       "      <td>-0.836387</td>\n",
       "    </tr>\n",
       "    <tr>\n",
       "      <th>F</th>\n",
       "      <td>1.000894</td>\n",
       "      <td>-1.221133</td>\n",
       "      <td>-1.231291</td>\n",
       "      <td>0.497514</td>\n",
       "      <td>-0.483292</td>\n",
       "    </tr>\n",
       "    <tr>\n",
       "      <th>G</th>\n",
       "      <td>0.546768</td>\n",
       "      <td>-1.676016</td>\n",
       "      <td>-0.378616</td>\n",
       "      <td>0.399888</td>\n",
       "      <td>-0.140247</td>\n",
       "    </tr>\n",
       "    <tr>\n",
       "      <th>H</th>\n",
       "      <td>0.327284</td>\n",
       "      <td>0.721633</td>\n",
       "      <td>0.796827</td>\n",
       "      <td>-1.674179</td>\n",
       "      <td>0.822630</td>\n",
       "    </tr>\n",
       "  </tbody>\n",
       "</table>\n",
       "</div>"
      ],
      "text/plain": [
       "     Score1    Score2    Score3    Score4    Score5\n",
       "A -0.782019  0.402101  1.160753  0.530398 -1.302952\n",
       "B  0.067790  0.612669  0.797581  0.007537 -1.656454\n",
       "C -1.020976 -0.272863 -0.171317  1.138011  1.823249\n",
       "D  0.290892 -2.090637 -0.430508 -0.807548 -0.750806\n",
       "E  0.442173 -0.135445  0.027866  0.579949 -0.836387\n",
       "F  1.000894 -1.221133 -1.231291  0.497514 -0.483292\n",
       "G  0.546768 -1.676016 -0.378616  0.399888 -0.140247\n",
       "H  0.327284  0.721633  0.796827 -1.674179  0.822630"
      ]
     },
     "execution_count": 53,
     "metadata": {},
     "output_type": "execute_result"
    }
   ],
   "source": [
    "df1=pd.DataFrame(np.random.randn(8,5),index='A B C D E F G H '.split(),columns='Score1 Score2 Score3 Score4 Score5'.split())\n",
    "df1 # It will create a dataframe with random numbers, and custom index and columns\n"
   ]
  },
  {
   "cell_type": "code",
   "execution_count": null,
   "metadata": {},
   "outputs": [],
   "source": [
    "#  Creating a dataframe from a dictionary of lists\n",
    "df2={'ID':['101','102','103','107','176'],'Name':['John','Mercy','Akash','Kavin','Lally'],'Profit':[20,54,56,87,123]}\n",
    "df=pd.DataFrame(df2)\n",
    "df"
   ]
  },
  {
   "attachments": {},
   "cell_type": "markdown",
   "metadata": {},
   "source": [
    "#### File Input"
   ]
  },
  {
   "cell_type": "code",
   "execution_count": null,
   "metadata": {},
   "outputs": [],
   "source": [
    "import pandas as pd\n",
    "import numpy as np\n"
   ]
  },
  {
   "cell_type": "code",
   "execution_count": null,
   "metadata": {},
   "outputs": [],
   "source": [
    "import pandas as pd"
   ]
  },
  {
   "cell_type": "code",
   "execution_count": null,
   "metadata": {},
   "outputs": [],
   "source": [
    "'''\n",
    "df=pd.read_excel(\"Club Schedule.xlsx\")\n",
    "df.head()\n",
    "df.info()\n",
    "df.describe()\n",
    "'''"
   ]
  },
  {
   "attachments": {},
   "cell_type": "markdown",
   "metadata": {},
   "source": [
    "#### Pandas"
   ]
  },
  {
   "cell_type": "code",
   "execution_count": 4,
   "metadata": {},
   "outputs": [
    {
     "data": {
      "text/html": [
       "<div>\n",
       "<style scoped>\n",
       "    .dataframe tbody tr th:only-of-type {\n",
       "        vertical-align: middle;\n",
       "    }\n",
       "\n",
       "    .dataframe tbody tr th {\n",
       "        vertical-align: top;\n",
       "    }\n",
       "\n",
       "    .dataframe thead th {\n",
       "        text-align: right;\n",
       "    }\n",
       "</style>\n",
       "<table border=\"1\" class=\"dataframe\">\n",
       "  <thead>\n",
       "    <tr style=\"text-align: right;\">\n",
       "      <th></th>\n",
       "      <th>mpg</th>\n",
       "      <th>cyl</th>\n",
       "      <th>disp</th>\n",
       "      <th>hp</th>\n",
       "      <th>wt</th>\n",
       "      <th>acc</th>\n",
       "      <th>yr</th>\n",
       "      <th>origin</th>\n",
       "      <th>car name</th>\n",
       "    </tr>\n",
       "  </thead>\n",
       "  <tbody>\n",
       "    <tr>\n",
       "      <th>0</th>\n",
       "      <td>18.0</td>\n",
       "      <td>8</td>\n",
       "      <td>307.0</td>\n",
       "      <td>130</td>\n",
       "      <td>3504</td>\n",
       "      <td>12.0</td>\n",
       "      <td>70</td>\n",
       "      <td>1</td>\n",
       "      <td>chevrolet chevelle malibu</td>\n",
       "    </tr>\n",
       "    <tr>\n",
       "      <th>1</th>\n",
       "      <td>15.0</td>\n",
       "      <td>8</td>\n",
       "      <td>350.0</td>\n",
       "      <td>165</td>\n",
       "      <td>3693</td>\n",
       "      <td>11.5</td>\n",
       "      <td>70</td>\n",
       "      <td>1</td>\n",
       "      <td>buick skylark 320</td>\n",
       "    </tr>\n",
       "    <tr>\n",
       "      <th>2</th>\n",
       "      <td>18.0</td>\n",
       "      <td>8</td>\n",
       "      <td>318.0</td>\n",
       "      <td>150</td>\n",
       "      <td>3436</td>\n",
       "      <td>11.0</td>\n",
       "      <td>70</td>\n",
       "      <td>1</td>\n",
       "      <td>plymouth satellite</td>\n",
       "    </tr>\n",
       "    <tr>\n",
       "      <th>3</th>\n",
       "      <td>16.0</td>\n",
       "      <td>8</td>\n",
       "      <td>304.0</td>\n",
       "      <td>150</td>\n",
       "      <td>3433</td>\n",
       "      <td>12.0</td>\n",
       "      <td>70</td>\n",
       "      <td>1</td>\n",
       "      <td>amc rebel sst</td>\n",
       "    </tr>\n",
       "    <tr>\n",
       "      <th>4</th>\n",
       "      <td>17.0</td>\n",
       "      <td>8</td>\n",
       "      <td>302.0</td>\n",
       "      <td>140</td>\n",
       "      <td>3449</td>\n",
       "      <td>10.5</td>\n",
       "      <td>70</td>\n",
       "      <td>1</td>\n",
       "      <td>ford torino</td>\n",
       "    </tr>\n",
       "    <tr>\n",
       "      <th>5</th>\n",
       "      <td>15.0</td>\n",
       "      <td>8</td>\n",
       "      <td>429.0</td>\n",
       "      <td>198</td>\n",
       "      <td>4341</td>\n",
       "      <td>10.0</td>\n",
       "      <td>70</td>\n",
       "      <td>1</td>\n",
       "      <td>ford galaxie 500</td>\n",
       "    </tr>\n",
       "    <tr>\n",
       "      <th>6</th>\n",
       "      <td>14.0</td>\n",
       "      <td>8</td>\n",
       "      <td>454.0</td>\n",
       "      <td>220</td>\n",
       "      <td>4354</td>\n",
       "      <td>9.0</td>\n",
       "      <td>70</td>\n",
       "      <td>1</td>\n",
       "      <td>chevrolet impala</td>\n",
       "    </tr>\n",
       "    <tr>\n",
       "      <th>7</th>\n",
       "      <td>14.0</td>\n",
       "      <td>8</td>\n",
       "      <td>440.0</td>\n",
       "      <td>215</td>\n",
       "      <td>4312</td>\n",
       "      <td>8.5</td>\n",
       "      <td>70</td>\n",
       "      <td>1</td>\n",
       "      <td>plymouth fury iii</td>\n",
       "    </tr>\n",
       "    <tr>\n",
       "      <th>8</th>\n",
       "      <td>14.0</td>\n",
       "      <td>8</td>\n",
       "      <td>455.0</td>\n",
       "      <td>225</td>\n",
       "      <td>4425</td>\n",
       "      <td>10.0</td>\n",
       "      <td>70</td>\n",
       "      <td>1</td>\n",
       "      <td>pontiac catalina</td>\n",
       "    </tr>\n",
       "    <tr>\n",
       "      <th>9</th>\n",
       "      <td>15.0</td>\n",
       "      <td>8</td>\n",
       "      <td>390.0</td>\n",
       "      <td>190</td>\n",
       "      <td>3850</td>\n",
       "      <td>8.5</td>\n",
       "      <td>70</td>\n",
       "      <td>1</td>\n",
       "      <td>amc ambassador dpl</td>\n",
       "    </tr>\n",
       "    <tr>\n",
       "      <th>10</th>\n",
       "      <td>15.0</td>\n",
       "      <td>8</td>\n",
       "      <td>383.0</td>\n",
       "      <td>170</td>\n",
       "      <td>3563</td>\n",
       "      <td>10.0</td>\n",
       "      <td>70</td>\n",
       "      <td>1</td>\n",
       "      <td>dodge challenger se</td>\n",
       "    </tr>\n",
       "  </tbody>\n",
       "</table>\n",
       "</div>"
      ],
      "text/plain": [
       "     mpg  cyl   disp   hp    wt   acc  yr  origin                   car name\n",
       "0   18.0    8  307.0  130  3504  12.0  70       1  chevrolet chevelle malibu\n",
       "1   15.0    8  350.0  165  3693  11.5  70       1          buick skylark 320\n",
       "2   18.0    8  318.0  150  3436  11.0  70       1         plymouth satellite\n",
       "3   16.0    8  304.0  150  3433  12.0  70       1              amc rebel sst\n",
       "4   17.0    8  302.0  140  3449  10.5  70       1                ford torino\n",
       "5   15.0    8  429.0  198  4341  10.0  70       1           ford galaxie 500\n",
       "6   14.0    8  454.0  220  4354   9.0  70       1           chevrolet impala\n",
       "7   14.0    8  440.0  215  4312   8.5  70       1          plymouth fury iii\n",
       "8   14.0    8  455.0  225  4425  10.0  70       1           pontiac catalina\n",
       "9   15.0    8  390.0  190  3850   8.5  70       1         amc ambassador dpl\n",
       "10  15.0    8  383.0  170  3563  10.0  70       1        dodge challenger se"
      ]
     },
     "execution_count": 4,
     "metadata": {},
     "output_type": "execute_result"
    }
   ],
   "source": [
    "import pandas as pd\n",
    "df = pd.read_csv('https://raw.githubusercontent.com/Premalatha-success/Yhills_June_2/main/auto-mpg.csv')\n",
    "df.head(11)"
   ]
  },
  {
   "cell_type": "code",
   "execution_count": 5,
   "metadata": {},
   "outputs": [
    {
     "data": {
      "text/html": [
       "<div>\n",
       "<style scoped>\n",
       "    .dataframe tbody tr th:only-of-type {\n",
       "        vertical-align: middle;\n",
       "    }\n",
       "\n",
       "    .dataframe tbody tr th {\n",
       "        vertical-align: top;\n",
       "    }\n",
       "\n",
       "    .dataframe thead th {\n",
       "        text-align: right;\n",
       "    }\n",
       "</style>\n",
       "<table border=\"1\" class=\"dataframe\">\n",
       "  <thead>\n",
       "    <tr style=\"text-align: right;\">\n",
       "      <th></th>\n",
       "      <th>mpg</th>\n",
       "      <th>cyl</th>\n",
       "      <th>disp</th>\n",
       "      <th>hp</th>\n",
       "      <th>wt</th>\n",
       "      <th>acc</th>\n",
       "      <th>yr</th>\n",
       "      <th>origin</th>\n",
       "      <th>car name</th>\n",
       "    </tr>\n",
       "  </thead>\n",
       "  <tbody>\n",
       "    <tr>\n",
       "      <th>251</th>\n",
       "      <td>20.2</td>\n",
       "      <td>8</td>\n",
       "      <td>302.0</td>\n",
       "      <td>139</td>\n",
       "      <td>3570</td>\n",
       "      <td>12.8</td>\n",
       "      <td>78</td>\n",
       "      <td>1</td>\n",
       "      <td>mercury monarch ghia</td>\n",
       "    </tr>\n",
       "    <tr>\n",
       "      <th>219</th>\n",
       "      <td>25.5</td>\n",
       "      <td>4</td>\n",
       "      <td>122.0</td>\n",
       "      <td>96</td>\n",
       "      <td>2300</td>\n",
       "      <td>15.5</td>\n",
       "      <td>77</td>\n",
       "      <td>1</td>\n",
       "      <td>plymouth arrow gs</td>\n",
       "    </tr>\n",
       "    <tr>\n",
       "      <th>250</th>\n",
       "      <td>19.4</td>\n",
       "      <td>8</td>\n",
       "      <td>318.0</td>\n",
       "      <td>140</td>\n",
       "      <td>3735</td>\n",
       "      <td>13.2</td>\n",
       "      <td>78</td>\n",
       "      <td>1</td>\n",
       "      <td>dodge diplomat</td>\n",
       "    </tr>\n",
       "    <tr>\n",
       "      <th>47</th>\n",
       "      <td>19.0</td>\n",
       "      <td>6</td>\n",
       "      <td>250.0</td>\n",
       "      <td>100</td>\n",
       "      <td>3282</td>\n",
       "      <td>15.0</td>\n",
       "      <td>71</td>\n",
       "      <td>1</td>\n",
       "      <td>pontiac firebird</td>\n",
       "    </tr>\n",
       "    <tr>\n",
       "      <th>76</th>\n",
       "      <td>18.0</td>\n",
       "      <td>4</td>\n",
       "      <td>121.0</td>\n",
       "      <td>112</td>\n",
       "      <td>2933</td>\n",
       "      <td>14.5</td>\n",
       "      <td>72</td>\n",
       "      <td>2</td>\n",
       "      <td>volvo 145e (sw)</td>\n",
       "    </tr>\n",
       "  </tbody>\n",
       "</table>\n",
       "</div>"
      ],
      "text/plain": [
       "      mpg  cyl   disp   hp    wt   acc  yr  origin              car name\n",
       "251  20.2    8  302.0  139  3570  12.8  78       1  mercury monarch ghia\n",
       "219  25.5    4  122.0   96  2300  15.5  77       1     plymouth arrow gs\n",
       "250  19.4    8  318.0  140  3735  13.2  78       1        dodge diplomat\n",
       "47   19.0    6  250.0  100  3282  15.0  71       1      pontiac firebird\n",
       "76   18.0    4  121.0  112  2933  14.5  72       2       volvo 145e (sw)"
      ]
     },
     "execution_count": 5,
     "metadata": {},
     "output_type": "execute_result"
    }
   ],
   "source": [
    "df.sample(5)"
   ]
  },
  {
   "cell_type": "code",
   "execution_count": 11,
   "metadata": {},
   "outputs": [
    {
     "name": "stdout",
     "output_type": "stream",
     "text": [
      "\n",
      "1) df.columns: It returns the column names of the dataset\n",
      "Columns in the dataset are: Index(['mpg', 'cyl', 'disp', 'hp', 'wt', 'acc', 'yr', 'origin', 'car name'], dtype='object')\n",
      "\n",
      "2) df.shape : It returns the number of rows and columns in the dataset\n",
      "Number of rows in the dataset are: 398\n",
      "Number of columns in the dataset are: 9\n",
      "df.shape returns a tuple of number of rows and columns in the dataset, which is (398, 9)\n",
      "\n",
      "3) df.info(): It returns the following information about the dataset:\n",
      "\n",
      "<class 'pandas.core.frame.DataFrame'>\n",
      "RangeIndex: 398 entries, 0 to 397\n",
      "Data columns (total 9 columns):\n",
      " #   Column    Non-Null Count  Dtype  \n",
      "---  ------    --------------  -----  \n",
      " 0   mpg       398 non-null    float64\n",
      " 1   cyl       398 non-null    int64  \n",
      " 2   disp      398 non-null    float64\n",
      " 3   hp        398 non-null    object \n",
      " 4   wt        398 non-null    int64  \n",
      " 5   acc       398 non-null    float64\n",
      " 6   yr        398 non-null    int64  \n",
      " 7   origin    398 non-null    int64  \n",
      " 8   car name  398 non-null    object \n",
      "dtypes: float64(3), int64(4), object(2)\n",
      "memory usage: 28.1+ KB\n"
     ]
    }
   ],
   "source": [
    "print(f'''\n",
    "1) df.columns: It returns the column names of the dataset\n",
    "Columns in the dataset are: {df.columns}\n",
    "\n",
    "2) df.shape : It returns the number of rows and columns in the dataset\n",
    "Number of rows in the dataset are: {df.shape[0]}\n",
    "Number of columns in the dataset are: {df.shape[1]}\n",
    "df.shape returns a tuple of number of rows and columns in the dataset, which is {df.shape}\n",
    "\n",
    "3) df.info(): It returns the following information about the dataset:\n",
    "''')\n",
    "df.info()"
   ]
  },
  {
   "cell_type": "code",
   "execution_count": 12,
   "metadata": {},
   "outputs": [
    {
     "name": "stdout",
     "output_type": "stream",
     "text": [
      "\n",
      "4) df.describe(): It returns the statistical information about the dataset\n",
      "\n"
     ]
    },
    {
     "data": {
      "text/html": [
       "<div>\n",
       "<style scoped>\n",
       "    .dataframe tbody tr th:only-of-type {\n",
       "        vertical-align: middle;\n",
       "    }\n",
       "\n",
       "    .dataframe tbody tr th {\n",
       "        vertical-align: top;\n",
       "    }\n",
       "\n",
       "    .dataframe thead th {\n",
       "        text-align: right;\n",
       "    }\n",
       "</style>\n",
       "<table border=\"1\" class=\"dataframe\">\n",
       "  <thead>\n",
       "    <tr style=\"text-align: right;\">\n",
       "      <th></th>\n",
       "      <th>mpg</th>\n",
       "      <th>cyl</th>\n",
       "      <th>disp</th>\n",
       "      <th>wt</th>\n",
       "      <th>acc</th>\n",
       "      <th>yr</th>\n",
       "      <th>origin</th>\n",
       "    </tr>\n",
       "  </thead>\n",
       "  <tbody>\n",
       "    <tr>\n",
       "      <th>count</th>\n",
       "      <td>398.000000</td>\n",
       "      <td>398.000000</td>\n",
       "      <td>398.000000</td>\n",
       "      <td>398.000000</td>\n",
       "      <td>398.000000</td>\n",
       "      <td>398.000000</td>\n",
       "      <td>398.000000</td>\n",
       "    </tr>\n",
       "    <tr>\n",
       "      <th>mean</th>\n",
       "      <td>23.514573</td>\n",
       "      <td>5.454774</td>\n",
       "      <td>193.425879</td>\n",
       "      <td>2970.424623</td>\n",
       "      <td>15.568090</td>\n",
       "      <td>76.010050</td>\n",
       "      <td>1.572864</td>\n",
       "    </tr>\n",
       "    <tr>\n",
       "      <th>std</th>\n",
       "      <td>7.815984</td>\n",
       "      <td>1.701004</td>\n",
       "      <td>104.269838</td>\n",
       "      <td>846.841774</td>\n",
       "      <td>2.757689</td>\n",
       "      <td>3.697627</td>\n",
       "      <td>0.802055</td>\n",
       "    </tr>\n",
       "    <tr>\n",
       "      <th>min</th>\n",
       "      <td>9.000000</td>\n",
       "      <td>3.000000</td>\n",
       "      <td>68.000000</td>\n",
       "      <td>1613.000000</td>\n",
       "      <td>8.000000</td>\n",
       "      <td>70.000000</td>\n",
       "      <td>1.000000</td>\n",
       "    </tr>\n",
       "    <tr>\n",
       "      <th>25%</th>\n",
       "      <td>17.500000</td>\n",
       "      <td>4.000000</td>\n",
       "      <td>104.250000</td>\n",
       "      <td>2223.750000</td>\n",
       "      <td>13.825000</td>\n",
       "      <td>73.000000</td>\n",
       "      <td>1.000000</td>\n",
       "    </tr>\n",
       "    <tr>\n",
       "      <th>50%</th>\n",
       "      <td>23.000000</td>\n",
       "      <td>4.000000</td>\n",
       "      <td>148.500000</td>\n",
       "      <td>2803.500000</td>\n",
       "      <td>15.500000</td>\n",
       "      <td>76.000000</td>\n",
       "      <td>1.000000</td>\n",
       "    </tr>\n",
       "    <tr>\n",
       "      <th>75%</th>\n",
       "      <td>29.000000</td>\n",
       "      <td>8.000000</td>\n",
       "      <td>262.000000</td>\n",
       "      <td>3608.000000</td>\n",
       "      <td>17.175000</td>\n",
       "      <td>79.000000</td>\n",
       "      <td>2.000000</td>\n",
       "    </tr>\n",
       "    <tr>\n",
       "      <th>max</th>\n",
       "      <td>46.600000</td>\n",
       "      <td>8.000000</td>\n",
       "      <td>455.000000</td>\n",
       "      <td>5140.000000</td>\n",
       "      <td>24.800000</td>\n",
       "      <td>82.000000</td>\n",
       "      <td>3.000000</td>\n",
       "    </tr>\n",
       "  </tbody>\n",
       "</table>\n",
       "</div>"
      ],
      "text/plain": [
       "              mpg         cyl        disp           wt         acc  \\\n",
       "count  398.000000  398.000000  398.000000   398.000000  398.000000   \n",
       "mean    23.514573    5.454774  193.425879  2970.424623   15.568090   \n",
       "std      7.815984    1.701004  104.269838   846.841774    2.757689   \n",
       "min      9.000000    3.000000   68.000000  1613.000000    8.000000   \n",
       "25%     17.500000    4.000000  104.250000  2223.750000   13.825000   \n",
       "50%     23.000000    4.000000  148.500000  2803.500000   15.500000   \n",
       "75%     29.000000    8.000000  262.000000  3608.000000   17.175000   \n",
       "max     46.600000    8.000000  455.000000  5140.000000   24.800000   \n",
       "\n",
       "               yr      origin  \n",
       "count  398.000000  398.000000  \n",
       "mean    76.010050    1.572864  \n",
       "std      3.697627    0.802055  \n",
       "min     70.000000    1.000000  \n",
       "25%     73.000000    1.000000  \n",
       "50%     76.000000    1.000000  \n",
       "75%     79.000000    2.000000  \n",
       "max     82.000000    3.000000  "
      ]
     },
     "execution_count": 12,
     "metadata": {},
     "output_type": "execute_result"
    }
   ],
   "source": [
    "print(f'''\n",
    "4) df.describe(): It returns the statistical information about the dataset\n",
    "''')\n",
    "df.describe()"
   ]
  },
  {
   "cell_type": "code",
   "execution_count": 17,
   "metadata": {},
   "outputs": [
    {
     "name": "stdout",
     "output_type": "stream",
     "text": [
      "\n",
      "5) df.dtypes: It returns the data type of each column in the dataset\n",
      "mpg         float64\n",
      "cyl           int64\n",
      "disp        float64\n",
      "hp           object\n",
      "wt            int64\n",
      "acc         float64\n",
      "yr            int64\n",
      "origin        int64\n",
      "car name     object\n",
      "dtype: object\n",
      "\n",
      "6) df.nunique(): It returns the number of unique values in each column of the dataset\n",
      "mpg         129\n",
      "cyl           5\n",
      "disp         82\n",
      "hp           94\n",
      "wt          351\n",
      "acc          95\n",
      "yr           13\n",
      "origin        3\n",
      "car name    305\n",
      "dtype: int64\n"
     ]
    }
   ],
   "source": [
    "print(f'''\n",
    "5) df.dtypes: It returns the data type of each column in the dataset\n",
    "{df.dtypes}\n",
    "\n",
    "6) df.nunique(): It returns the number of unique values in each column of the dataset\n",
    "{df.nunique()}''')\n"
   ]
  },
  {
   "cell_type": "code",
   "execution_count": 18,
   "metadata": {},
   "outputs": [
    {
     "name": "stdout",
     "output_type": "stream",
     "text": [
      "\n",
      "7) df.isnull().sum(): It returns the number of missing values in each column of the dataset\n",
      "mpg         0\n",
      "cyl         0\n",
      "disp        0\n",
      "hp          0\n",
      "wt          0\n",
      "acc         0\n",
      "yr          0\n",
      "origin      0\n",
      "car name    0\n",
      "dtype: int64\n",
      "\n",
      "df.isnull().sum().sum(): It returns the total number of missing values in the dataset\n",
      "Missing values in the dataset are: 0\n",
      "\n",
      "Missing Values means empty cells in the dataset\n"
     ]
    }
   ],
   "source": [
    "\n",
    "print(f'''\n",
    "7) df.isnull().sum(): It returns the number of missing values in each column of the dataset\n",
    "{df.isnull().sum()}\n",
    "\n",
    "df.isnull().sum().sum(): It returns the total number of missing values in the dataset\n",
    "Missing values in the dataset are: {df.isnull().sum().sum()}\n",
    "\n",
    "Missing Values means empty cells in the dataset''')\n"
   ]
  },
  {
   "cell_type": "code",
   "execution_count": 21,
   "metadata": {},
   "outputs": [
    {
     "name": "stdout",
     "output_type": "stream",
     "text": [
      "\n",
      "# Ways to select a column in a dataframe\n",
      "1) df['column_name']: It returns the column as a series\n",
      "2) df.column_name: It returns the column as a series\n",
      "3) df[['column_name']]: It returns the column as a dataframe\n",
      "4) df[['column_name1','column_name2']]: It returns the columns as a dataframe\n",
      "\n",
      "\n",
      "Dataframe vs Series:\n",
      "1) Dataframe is a 2D data structure - It has rows and columns and headings. Its a tabular data structure\n",
      "2) Series is a 1D data structure - It has only rows and no columns and no headings. Its a list of values\n",
      "\n"
     ]
    }
   ],
   "source": [
    "print(f'''\n",
    "# Ways to select a column in a dataframe\n",
    "1) df['column_name']: It returns the column as a series\n",
    "2) df.column_name: It returns the column as a series\n",
    "3) df[['column_name']]: It returns the column as a dataframe\n",
    "4) df[['column_name1','column_name2']]: It returns the columns as a dataframe\n",
    "''')\n",
    "print(f'''\n",
    "Dataframe vs Series:\n",
    "1) Dataframe is a 2D data structure - It has rows and columns and headings. Its a tabular data structure\n",
    "2) Series is a 1D data structure - It has only rows and no columns and no headings. Its a list of values\n",
    "''')"
   ]
  },
  {
   "cell_type": "code",
   "execution_count": 28,
   "metadata": {},
   "outputs": [
    {
     "name": "stdout",
     "output_type": "stream",
     "text": [
      "\n",
      "1) df['column_name']: It returns the column as a series\n",
      "0    18.0\n",
      "1    15.0\n",
      "2    18.0\n",
      "3    16.0\n",
      "4    17.0\n",
      "5    15.0\n",
      "6    14.0\n",
      "7    14.0\n",
      "8    14.0\n",
      "Name: mpg, dtype: float64\n",
      "\n",
      "\n",
      "2) df.column_name: It returns the column as a series as well\n",
      "0    18.0\n",
      "1    15.0\n",
      "2    18.0\n",
      "3    16.0\n",
      "4    17.0\n",
      "5    15.0\n",
      "6    14.0\n",
      "7    14.0\n",
      "8    14.0\n",
      "Name: mpg, dtype: float64\n",
      "\n"
     ]
    }
   ],
   "source": [
    "# example of selecting a column in a dataframe\n",
    "print(f'''\n",
    "1) df['column_name']: It returns the column as a series\n",
    "{df['mpg'][:9]}\n",
    "''')\n",
    "print(f'''\n",
    "2) df.column_name: It returns the column as a series as well\n",
    "{df.mpg[:9]}\n",
    "''')"
   ]
  },
  {
   "cell_type": "code",
   "execution_count": 35,
   "metadata": {},
   "outputs": [
    {
     "name": "stdout",
     "output_type": "stream",
     "text": [
      "\n",
      "3) df[['column_name']]: It returns the column as a dataframe\n",
      "    mpg\n",
      "0  18.0\n",
      "1  15.0\n",
      "2  18.0\n",
      "3  16.0\n",
      "4  17.0\n",
      "\n",
      "\n",
      "4) df[['column_name1','column_name2']]: It returns the columns as a dataframe\n",
      "    mpg   hp\n",
      "0  18.0  130\n",
      "1  15.0  165\n",
      "2  18.0  150\n",
      "3  16.0  150\n",
      "4  17.0  140\n",
      "\n"
     ]
    }
   ],
   "source": [
    "print(f'''\n",
    "3) df[['column_name']]: It returns the column as a dataframe\n",
    "{df[['mpg']].head(5)}\n",
    "''')\n",
    "# Utility is that we can use Dataframe methods with [[]], but not with [] or . :(\n",
    "print(f'''\n",
    "4) df[['column_name1','column_name2']]: It returns the columns as a dataframe\n",
    "{df[['mpg','hp']].head(5)}\n",
    "''')"
   ]
  },
  {
   "cell_type": "code",
   "execution_count": null,
   "metadata": {},
   "outputs": [],
   "source": []
  }
 ],
 "metadata": {
  "kernelspec": {
   "display_name": "Python 3 (ipykernel)",
   "language": "python",
   "name": "python3"
  },
  "language_info": {
   "codemirror_mode": {
    "name": "ipython",
    "version": 3
   },
   "file_extension": ".py",
   "mimetype": "text/x-python",
   "name": "python",
   "nbconvert_exporter": "python",
   "pygments_lexer": "ipython3",
   "version": "3.10.9"
  }
 },
 "nbformat": 4,
 "nbformat_minor": 4
}
